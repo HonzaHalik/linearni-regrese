{
 "cells": [
  {
   "cell_type": "code",
   "execution_count": 2,
   "metadata": {},
   "outputs": [],
   "source": [
    "\n",
    "import pandas as pd\n",
    "from matplotlib import pyplot as plt\n",
    "import statsmodels.formula.api as smf\n",
    "import numpy as np"
   ]
  },
  {
   "cell_type": "code",
   "execution_count": 3,
   "metadata": {},
   "outputs": [],
   "source": [
    "def get_df(drop_species=True):\n",
    "    df = pd.read_csv(\"Iris.csv\", header=0)\n",
    "    if drop_species:\n",
    "        df = df.drop('Species', axis=1)\n",
    "    df = df.drop('Id', axis=1)\n",
    "    return df"
   ]
  },
  {
   "cell_type": "code",
   "execution_count": 5,
   "metadata": {},
   "outputs": [],
   "source": [
    "df = get_df()\n",
    "df['LogPetalLength'] = df['PetalLengthCm'].apply(lambda x: np.log(x))"
   ]
  },
  {
   "cell_type": "code",
   "execution_count": 9,
   "metadata": {},
   "outputs": [
    {
     "name": "stdout",
     "output_type": "stream",
     "text": [
      "                            OLS Regression Results                            \n",
      "==============================================================================\n",
      "Dep. Variable:         LogPetalLength   R-squared:                       1.000\n",
      "Model:                            OLS   Adj. R-squared:                  1.000\n",
      "Method:                 Least Squares   F-statistic:                 2.687e+32\n",
      "Date:                Fri, 20 Oct 2023   Prob (F-statistic):               0.00\n",
      "Time:                        08:33:02   Log-Likelihood:                 5092.5\n",
      "No. Observations:                 150   AIC:                        -1.018e+04\n",
      "Df Residuals:                     148   BIC:                        -1.017e+04\n",
      "Df Model:                           1                                         \n",
      "Covariance Type:            nonrobust                                         \n",
      "==================================================================================\n",
      "                     coef    std err          t      P>|t|      [0.025      0.975]\n",
      "----------------------------------------------------------------------------------\n",
      "Intercept      -8.674e-18   8.02e-17     -0.108      0.914   -1.67e-16     1.5e-16\n",
      "LogPetalLength     1.0000    6.1e-17   1.64e+16      0.000       1.000       1.000\n",
      "==============================================================================\n",
      "Omnibus:                       60.065   Durbin-Watson:                   0.055\n",
      "Prob(Omnibus):                  0.000   Jarque-Bera (JB):                9.727\n",
      "Skew:                          -0.181   Prob(JB):                      0.00772\n",
      "Kurtosis:                       1.806   Cond. No.                         4.41\n",
      "==============================================================================\n",
      "\n",
      "Notes:\n",
      "[1] Standard Errors assume that the covariance matrix of the errors is correctly specified.\n"
     ]
    }
   ],
   "source": [
    "x = df[['LogPetalLength', 'LogPetalLengths']]"
   ]
  }
 ],
 "metadata": {
  "kernelspec": {
   "display_name": "Python 3",
   "language": "python",
   "name": "python3"
  },
  "language_info": {
   "codemirror_mode": {
    "name": "ipython",
    "version": 3
   },
   "file_extension": ".py",
   "mimetype": "text/x-python",
   "name": "python",
   "nbconvert_exporter": "python",
   "pygments_lexer": "ipython3",
   "version": "3.10.11"
  },
  "orig_nbformat": 4
 },
 "nbformat": 4,
 "nbformat_minor": 2
}
